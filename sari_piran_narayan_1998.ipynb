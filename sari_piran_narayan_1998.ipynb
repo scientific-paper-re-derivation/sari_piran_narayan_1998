{
 "cells": [
  {
   "cell_type": "markdown",
   "metadata": {},
   "source": [
    "[ADS Entry](http://adsabs.harvard.edu/abs/1998ApJ...497L..17S)"
   ]
  },
  {
   "cell_type": "code",
   "execution_count": 380,
   "metadata": {
    "collapsed": true
   },
   "outputs": [],
   "source": [
    "import sympy\n",
    "sympy.init_printing()"
   ]
  },
  {
   "cell_type": "markdown",
   "metadata": {},
   "source": [
    "Supra - thermal electron distribution"
   ]
  },
  {
   "cell_type": "code",
   "execution_count": 381,
   "metadata": {
    "collapsed": false
   },
   "outputs": [
    {
     "data": {
      "image/png": "[encoded data removed]",
      "text/latex": [
       "$$C_{e} \\gamma_{e}^{- p}$$"
      ],
      "text/plain": [
       "     -p\n",
       "Cₑ⋅γₑ  "
      ]
     },
     "execution_count": 381,
     "metadata": {},
     "output_type": "execute_result"
    }
   ],
   "source": [
    "gamma_e = sympy.Symbol('gamma_e')\n",
    "C_e = sympy.Symbol('C_e')\n",
    "p = sympy.Symbol('p')\n",
    "gamma_m = sympy.Symbol('gamma_m')\n",
    "electron_distribution_ansatz = C_e*gamma_e**(-p)\n",
    "electron_distribution_ansatz"
   ]
  },
  {
   "cell_type": "markdown",
   "metadata": {},
   "source": [
    "Shocked number density"
   ]
  },
  {
   "cell_type": "code",
   "execution_count": 382,
   "metadata": {
    "collapsed": true
   },
   "outputs": [],
   "source": [
    "gamma = sympy.Symbol('gamma')\n",
    "n = sympy.Symbol('n', positive=True)\n",
    "shocked_number_density = gamma*n"
   ]
  },
  {
   "cell_type": "markdown",
   "metadata": {},
   "source": [
    "Shocked energy density"
   ]
  },
  {
   "cell_type": "code",
   "execution_count": 383,
   "metadata": {
    "collapsed": true
   },
   "outputs": [],
   "source": [
    "m_p = sympy.Symbol('m_p', positive=True)\n",
    "c = sympy.Symbol('c', positive=True)\n",
    "shocked_energy_density = gamma**2*m_p*c**2*n"
   ]
  },
  {
   "cell_type": "code",
   "execution_count": 384,
   "metadata": {
    "collapsed": false
   },
   "outputs": [],
   "source": [
    "m_e = sympy.Symbol('m_e', positive=True)\n",
    "epsilon_e = sympy.Symbol('epsilon_e', positive=True)\n",
    "_ = [sympy.integrate(electron_distribution_ansatz,gamma_e,conds='none'),\n",
    "     sympy.integrate(electron_distribution_ansatz*gamma_e*m_e*c**2,gamma_e,conds='none')]\n",
    "_ = [-itm.subs(gamma_e,gamma_m).simplify() for itm in _]\n",
    "_ = [sympy.Eq(_[0],shocked_number_density),\n",
    "     sympy.Eq(_[1],shocked_energy_density*epsilon_e)]\n",
    "_ = sympy.solve(_,[C_e,gamma_m])[0]\n",
    "C_e_expr, gamma_m_expr = _"
   ]
  },
  {
   "cell_type": "code",
   "execution_count": 385,
   "metadata": {
    "collapsed": false
   },
   "outputs": [
    {
     "data": {
      "image/png": "[encoded data removed]",
      "text/latex": [
       "$$\\gamma_{m} = \\frac{\\epsilon_{e} \\gamma m_{p} \\left(p - 2\\right)}{m_{e} \\left(p - 1\\right)}$$"
      ],
      "text/plain": [
       "     εₑ⋅γ⋅mₚ⋅(p - 2)\n",
       "γₘ = ───────────────\n",
       "        mₑ⋅(p - 1)  "
      ]
     },
     "execution_count": 385,
     "metadata": {},
     "output_type": "execute_result"
    }
   ],
   "source": [
    "sympy.Eq(gamma_m,gamma_m_expr)"
   ]
  },
  {
   "cell_type": "markdown",
   "metadata": {},
   "source": [
    "Magnetic field strength"
   ]
  },
  {
   "cell_type": "code",
   "execution_count": 386,
   "metadata": {
    "collapsed": false
   },
   "outputs": [
    {
     "data": {
      "image/png": "[encoded data removed]",
      "text/latex": [
       "$$B = c \\sqrt{\\epsilon_{B}} \\sqrt{m_{p}} \\sqrt{n} \\sqrt{\\gamma^{2}}$$"
      ],
      "text/plain": [
       "                           ____\n",
       "        _____   ____      ╱  2 \n",
       "B = c⋅╲╱ ε_B ⋅╲╱ mₚ ⋅√n⋅╲╱  γ  "
      ]
     },
     "execution_count": 386,
     "metadata": {},
     "output_type": "execute_result"
    }
   ],
   "source": [
    "epsilon_B = sympy.Symbol('epsilon_B',positive=True)\n",
    "B = sympy.Symbol('B')\n",
    "magnetic_field = sympy.sqrt(epsilon_B*shocked_energy_density)\n",
    "sympy.Eq(B,magnetic_field)"
   ]
  },
  {
   "cell_type": "markdown",
   "metadata": {},
   "source": [
    "Synchrotron radiation power"
   ]
  },
  {
   "cell_type": "code",
   "execution_count": 387,
   "metadata": {
    "collapsed": false
   },
   "outputs": [
    {
     "data": {
      "image/png": "[encoded data removed]",
      "text/latex": [
       "$$P\\left(\\gamma_e\\right) = B^{2} c \\gamma^{2} \\gamma_{e}^{2} \\sigma_{T}$$"
      ],
      "text/plain": [
       "                          2    2   2    \n",
       "P\\left(\\gamma_e\\right) = B ⋅c⋅γ ⋅γₑ ⋅σ_T"
      ]
     },
     "execution_count": 387,
     "metadata": {},
     "output_type": "execute_result"
    }
   ],
   "source": [
    "P_gamma_e = sympy.Symbol(r'P\\left(\\gamma_e\\right)')\n",
    "sigma_T = sympy.Symbol('sigma_T', positive=True)\n",
    "synchrotron_radiation_power = sigma_T*c*gamma**2*gamma_e**2*B**2\n",
    "sympy.Eq(P_gamma_e,synchrotron_radiation_power)"
   ]
  },
  {
   "cell_type": "markdown",
   "metadata": {},
   "source": [
    "Characteristic frequency"
   ]
  },
  {
   "cell_type": "code",
   "execution_count": 388,
   "metadata": {
    "collapsed": false
   },
   "outputs": [
    {
     "data": {
      "image/png": "[encoded data removed]",
      "text/latex": [
       "$$\\nu \\left(\\gamma_e\\right) = \\frac{B \\gamma \\gamma_{e}^{2} q_{e}}{c m_{e}}$$"
      ],
      "text/plain": [
       "                                  2   \n",
       "                            B⋅γ⋅γₑ ⋅qₑ\n",
       "\\nu \\left(\\gamma_e\\right) = ──────────\n",
       "                               c⋅mₑ   "
      ]
     },
     "execution_count": 388,
     "metadata": {},
     "output_type": "execute_result"
    }
   ],
   "source": [
    "nu_gamma_e = sympy.Symbol(r'\\nu \\left(\\gamma_e\\right)')\n",
    "q_e = sympy.Symbol('q_e', positive=True)\n",
    "characteristic_frequency = gamma*gamma_e**2*q_e*B/(m_e*c)\n",
    "sympy.Eq(nu_gamma_e, characteristic_frequency)"
   ]
  },
  {
   "cell_type": "markdown",
   "metadata": {},
   "source": [
    "Peak power"
   ]
  },
  {
   "cell_type": "code",
   "execution_count": 389,
   "metadata": {
    "collapsed": false
   },
   "outputs": [
    {
     "data": {
      "image/png": "[encoded data removed]",
      "text/latex": [
       "$$P_{\\nu,\\max} = \\frac{B \\gamma}{q_{e}} c^{2} m_{e} \\sigma_{T}$$"
      ],
      "text/plain": [
       "                  2         \n",
       "               B⋅c ⋅γ⋅mₑ⋅σ_T\n",
       "P_{\\nu,\\max} = ─────────────\n",
       "                     qₑ     "
      ]
     },
     "execution_count": 389,
     "metadata": {},
     "output_type": "execute_result"
    }
   ],
   "source": [
    "P_nu_max = sympy.Symbol(r'P_{\\nu,\\max}')\n",
    "peak_power = synchrotron_radiation_power/ characteristic_frequency\n",
    "sympy.Eq(P_nu_max, peak_power)"
   ]
  },
  {
   "cell_type": "markdown",
   "metadata": {},
   "source": [
    "Critical cooling Lorentz factor"
   ]
  },
  {
   "cell_type": "code",
   "execution_count": 390,
   "metadata": {
    "collapsed": false
   },
   "outputs": [
    {
     "data": {
      "image/png": "[encoded data removed]",
      "text/latex": [
       "$$\\gamma_{c} = \\frac{c m_{e}}{B^{2} \\gamma \\sigma_{T} t}$$"
      ],
      "text/plain": [
       "         c⋅mₑ   \n",
       "γ_c = ──────────\n",
       "       2        \n",
       "      B ⋅γ⋅σ_T⋅t"
      ]
     },
     "execution_count": 390,
     "metadata": {},
     "output_type": "execute_result"
    }
   ],
   "source": [
    "gamma_c = sympy.Symbol('gamma_c')\n",
    "t = sympy.Symbol('t',positive=True)\n",
    "_ = sympy.Eq(gamma*gamma_c*m_e*c**2,\n",
    "             P_gamma_e*t)\n",
    "_ = _.subs(P_gamma_e, synchrotron_radiation_power)\n",
    "_ = _.subs(gamma_e,gamma_c).simplify()\n",
    "critical_lorentz_factor = sympy.solve(_,gamma_c)[1]\n",
    "sympy.Eq(gamma_c, critical_lorentz_factor)"
   ]
  },
  {
   "cell_type": "markdown",
   "metadata": {},
   "source": [
    "Adiabatic shock trajectory"
   ]
  },
  {
   "cell_type": "code",
   "execution_count": 391,
   "metadata": {
    "collapsed": false
   },
   "outputs": [
    {
     "data": {
      "image/png": "[encoded data removed]",
      "text/latex": [
       "$$E = R^{3} c^{2} \\gamma^{2} m_{p} n$$"
      ],
      "text/plain": [
       "     3  2  2     \n",
       "E = R ⋅c ⋅γ ⋅mₚ⋅n"
      ]
     },
     "execution_count": 391,
     "metadata": {},
     "output_type": "execute_result"
    }
   ],
   "source": [
    "E = sympy.Symbol('E',positive=True)\n",
    "R = sympy.Symbol('R')\n",
    "adiabatic_shock_energy = gamma**2*R**3*n*m_p*c**2\n",
    "sympy.Eq(E,adiabatic_shock_energy)"
   ]
  },
  {
   "cell_type": "code",
   "execution_count": 392,
   "metadata": {
    "collapsed": false
   },
   "outputs": [
    {
     "data": {
      "image/png": "[encoded data removed]",
      "text/latex": [
       "$$\\gamma = \\frac{\\sqrt{E} \\sqrt{\\frac{1}{R^{3}}}}{c \\sqrt{m_{p}} \\sqrt{n}}$$"
      ],
      "text/plain": [
       "            ____\n",
       "           ╱ 1  \n",
       "    √E⋅   ╱  ── \n",
       "         ╱    3 \n",
       "       ╲╱    R  \n",
       "γ = ────────────\n",
       "        ____    \n",
       "    c⋅╲╱ mₚ ⋅√n "
      ]
     },
     "execution_count": 392,
     "metadata": {},
     "output_type": "execute_result"
    }
   ],
   "source": [
    "adiabatic_shock_trajectory = sympy.solve(adiabatic_shock_energy-E,gamma)[1]\n",
    "sympy.Eq(gamma,adiabatic_shock_trajectory)"
   ]
  },
  {
   "cell_type": "markdown",
   "metadata": {},
   "source": [
    "Relativistic Sedov Length"
   ]
  },
  {
   "cell_type": "code",
   "execution_count": 393,
   "metadata": {
    "collapsed": false
   },
   "outputs": [
    {
     "data": {
      "image/png": "[encoded data removed]",
      "text/latex": [
       "$$L = \\frac{\\sqrt[3]{E}}{c^{\\frac{2}{3}} \\sqrt[3]{\\gamma_{0}} \\sqrt[3]{m_{p}} \\sqrt[3]{n}}$$"
      ],
      "text/plain": [
       "             3 ___          \n",
       "             ╲╱ E           \n",
       "L = ────────────────────────\n",
       "     2/3 3 ____ 3 ____ 3 ___\n",
       "    c   ⋅╲╱ γ₀ ⋅╲╱ mₚ ⋅╲╱ n "
      ]
     },
     "execution_count": 393,
     "metadata": {},
     "output_type": "execute_result"
    }
   ],
   "source": [
    "L = sympy.Symbol('L', positive=True)\n",
    "gamma_0 = sympy.Symbol('gamma_0', positive=True)\n",
    "relativistic_sedov_length = sympy.solve(sympy.Eq(E,L**3*n*m_p*c**2*gamma_0),L)[0]\n",
    "sympy.Eq(L,relativistic_sedov_length)"
   ]
  },
  {
   "cell_type": "markdown",
   "metadata": {},
   "source": [
    "Raditative shock trajectory"
   ]
  },
  {
   "cell_type": "code",
   "execution_count": 394,
   "metadata": {
    "collapsed": false
   },
   "outputs": [
    {
     "data": {
      "image/png": "[encoded data removed]",
      "text/latex": [
       "$$\\gamma = \\frac{L^{3}}{R^{3}}$$"
      ],
      "text/plain": [
       "     3\n",
       "    L \n",
       "γ = ──\n",
       "     3\n",
       "    R "
      ]
     },
     "execution_count": 394,
     "metadata": {},
     "output_type": "execute_result"
    }
   ],
   "source": [
    "radiative_shock_trajectory = (R/L)**(-3)\n",
    "sympy.Eq(gamma,radiative_shock_trajectory)"
   ]
  },
  {
   "cell_type": "markdown",
   "metadata": {},
   "source": [
    "Observers time"
   ]
  },
  {
   "cell_type": "code",
   "execution_count": 395,
   "metadata": {
    "collapsed": false
   },
   "outputs": [
    {
     "data": {
      "image/png": "[encoded data removed]",
      "text/latex": [
       "$$t = \\frac{R}{c \\gamma^{2}}$$"
      ],
      "text/plain": [
       "     R  \n",
       "t = ────\n",
       "       2\n",
       "    c⋅γ "
      ]
     },
     "execution_count": 395,
     "metadata": {},
     "output_type": "execute_result"
    }
   ],
   "source": [
    "observer_time = R/(c*gamma**2)\n",
    "sympy.Eq(t,observer_time)"
   ]
  },
  {
   "cell_type": "markdown",
   "metadata": {},
   "source": [
    "Equation 9 - adiabatic case"
   ]
  },
  {
   "cell_type": "code",
   "execution_count": 396,
   "metadata": {
    "collapsed": false
   },
   "outputs": [
    {
     "data": {
      "image/png": "[encoded data removed]",
      "text/latex": [
       "$$R = \\frac{\\sqrt[4]{E} \\sqrt[4]{t}}{\\sqrt[4]{c} \\sqrt[4]{m_{p}} \\sqrt[4]{n}}$$"
      ],
      "text/plain": [
       "       4 ___ 4 ___    \n",
       "       ╲╱ E ⋅╲╱ t     \n",
       "R = ──────────────────\n",
       "    4 ___ 4 ____ 4 ___\n",
       "    ╲╱ c ⋅╲╱ mₚ ⋅╲╱ n "
      ]
     },
     "execution_count": 396,
     "metadata": {},
     "output_type": "execute_result"
    }
   ],
   "source": [
    "_ = adiabatic_shock_trajectory\n",
    "_ = sympy.solve(_-sympy.solve(observer_time-t,gamma)[1],R)[1]\n",
    "adiabatic_radius_time = _\n",
    "sympy.Eq(R,adiabatic_radius_time)"
   ]
  },
  {
   "cell_type": "markdown",
   "metadata": {},
   "source": [
    "Equation 9 - radiative case"
   ]
  },
  {
   "cell_type": "code",
   "execution_count": 397,
   "metadata": {
    "collapsed": false
   },
   "outputs": [
    {
     "data": {
      "image/png": "[encoded data removed]",
      "text/latex": [
       "$$R = L^{\\frac{6}{7}} \\sqrt[7]{c} \\sqrt[7]{t}$$"
      ],
      "text/plain": [
       "     6/7 7 ___ 7 ___\n",
       "R = L   ⋅╲╱ c ⋅╲╱ t "
      ]
     },
     "execution_count": 397,
     "metadata": {},
     "output_type": "execute_result"
    }
   ],
   "source": [
    "_ = radiative_shock_trajectory\n",
    "_ = sympy.solve(_-sympy.solve(observer_time-t,gamma)[1],R)[0]\n",
    "radiative_radius_time = _\n",
    "sympy.Eq(R,radiative_radius_time)"
   ]
  },
  {
   "cell_type": "markdown",
   "metadata": {},
   "source": [
    "Equation 10 - adiabatic case"
   ]
  },
  {
   "cell_type": "code",
   "execution_count": 398,
   "metadata": {
    "collapsed": false
   },
   "outputs": [
    {
     "data": {
      "image/png": "[encoded data removed]",
      "text/latex": [
       "$$\\gamma = \\frac{\\sqrt[8]{E}}{c^{\\frac{5}{8}} \\sqrt[8]{m_{p}} \\sqrt[8]{n} t^{\\frac{3}{8}}}$$"
      ],
      "text/plain": [
       "            8 ___         \n",
       "            ╲╱ E          \n",
       "γ = ──────────────────────\n",
       "     5/8 8 ____ 8 ___  3/8\n",
       "    c   ⋅╲╱ mₚ ⋅╲╱ n ⋅t   "
      ]
     },
     "execution_count": 398,
     "metadata": {},
     "output_type": "execute_result"
    }
   ],
   "source": [
    "_ = adiabatic_shock_trajectory.subs(R,adiabatic_radius_time)\n",
    "adiabatic_gamma_time = sympy.expand_power_base(_,force=True)\n",
    "sympy.Eq(gamma, adiabatic_gamma_time)"
   ]
  },
  {
   "cell_type": "markdown",
   "metadata": {},
   "source": [
    "Equation 10 - radiative case"
   ]
  },
  {
   "cell_type": "code",
   "execution_count": 399,
   "metadata": {
    "collapsed": false
   },
   "outputs": [
    {
     "data": {
      "image/png": "[encoded data removed]",
      "text/latex": [
       "$$\\gamma = \\frac{L^{\\frac{3}{7}}}{c^{\\frac{3}{7}} t^{\\frac{3}{7}}}$$"
      ],
      "text/plain": [
       "        3/7  \n",
       "       L     \n",
       "γ = ─────────\n",
       "     3/7  3/7\n",
       "    c   ⋅t   "
      ]
     },
     "execution_count": 399,
     "metadata": {},
     "output_type": "execute_result"
    }
   ],
   "source": [
    "_ = radiative_shock_trajectory.subs(R,radiative_radius_time)\n",
    "radiative_gamma_time = _\n",
    "sympy.Eq(gamma,radiative_gamma_time)"
   ]
  },
  {
   "cell_type": "markdown",
   "metadata": {},
   "source": [
    "Adiabatic critical frequency"
   ]
  },
  {
   "cell_type": "code",
   "execution_count": 400,
   "metadata": {
    "collapsed": false
   },
   "outputs": [
    {
     "data": {
      "image/png": "[encoded data removed]",
      "text/latex": [
       "$$\\nu_{c} = \\frac{\\sqrt{c} m_{e} q_{e}}{\\sqrt{E} \\epsilon_{B}^{\\frac{3}{2}} m_{p} n \\sigma_{T}^{2} \\sqrt{t}}$$"
      ],
      "text/plain": [
       "             √c⋅mₑ⋅qₑ       \n",
       "ν_c = ──────────────────────\n",
       "            3/2         2   \n",
       "      √E⋅ε_B   ⋅mₚ⋅n⋅σ_T ⋅√t"
      ]
     },
     "execution_count": 400,
     "metadata": {},
     "output_type": "execute_result"
    }
   ],
   "source": [
    "nu_c = sympy.Symbol('nu_c')\n",
    "_ = characteristic_frequency.subs(gamma_e, critical_lorentz_factor)\n",
    "_ = _.subs(B,magnetic_field)\n",
    "_ = _.subs(gamma,adiabatic_gamma_time)\n",
    "_ = sympy.expand_power_base(_,force=True)\n",
    "adiabatic_nu_c = _\n",
    "sympy.Eq(nu_c,adiabatic_nu_c)"
   ]
  },
  {
   "cell_type": "markdown",
   "metadata": {},
   "source": [
    "Adiabatic minimal frequency"
   ]
  },
  {
   "cell_type": "code",
   "execution_count": 401,
   "metadata": {
    "collapsed": false
   },
   "outputs": [
    {
     "data": {
      "image/png": "[encoded data removed]",
      "text/latex": [
       "$$\\nu_{m} = \\frac{\\sqrt{E} \\sqrt{\\epsilon_{B}} \\epsilon_{e}^{2} m_{p}^{2} q_{e} \\left(p - 2\\right)^{2}}{c^{\\frac{5}{2}} m_{e}^{3} t^{\\frac{3}{2}} \\left(p - 1\\right)^{2}}$$"
      ],
      "text/plain": [
       "          _____   2   2           2\n",
       "     √E⋅╲╱ ε_B ⋅εₑ ⋅mₚ ⋅qₑ⋅(p - 2) \n",
       "νₘ = ──────────────────────────────\n",
       "          5/2   3  3/2        2    \n",
       "         c   ⋅mₑ ⋅t   ⋅(p - 1)     "
      ]
     },
     "execution_count": 401,
     "metadata": {},
     "output_type": "execute_result"
    }
   ],
   "source": [
    "nu_m = sympy.Symbol('nu_m')\n",
    "_ = characteristic_frequency\n",
    "_ = _.subs(gamma_e, gamma_m_expr)\n",
    "_ = _.subs(B,magnetic_field)\n",
    "_ = _.subs(gamma, adiabatic_gamma_time)\n",
    "_ = sympy.expand_power_base(_,force=True)\n",
    "adiabatic_nu_m = _\n",
    "sympy.Eq(nu_m, adiabatic_nu_m)"
   ]
  },
  {
   "cell_type": "markdown",
   "metadata": {},
   "source": [
    "Adiabatic peak flux"
   ]
  },
  {
   "cell_type": "code",
   "execution_count": 402,
   "metadata": {
    "collapsed": false
   },
   "outputs": [
    {
     "data": {
      "image/png": "[encoded data removed]",
      "text/latex": [
       "$$F_{\\nu, \\max} = \\frac{E c \\sqrt{\\epsilon_{B}} m_{e} \\sqrt{n} \\sigma_{T}}{D^{2} \\sqrt{m_{p}} q_{e}}$$"
      ],
      "text/plain": [
       "                      _____          \n",
       "                E⋅c⋅╲╱ ε_B ⋅mₑ⋅√n⋅σ_T\n",
       "F_{\\nu, \\max} = ─────────────────────\n",
       "                      2   ____       \n",
       "                     D ⋅╲╱ mₚ ⋅qₑ    "
      ]
     },
     "execution_count": 402,
     "metadata": {},
     "output_type": "execute_result"
    }
   ],
   "source": [
    "D = sympy.Symbol('D')\n",
    "F_nu_max = sympy.Symbol(r'F_{\\nu, \\max}')\n",
    "_ = peak_power*n*R**3/D**2\n",
    "_ = _.subs(R, adiabatic_radius_time)\n",
    "_ = _.subs(B,magnetic_field)\n",
    "_ = _.subs(gamma,adiabatic_gamma_time)\n",
    "_ = sympy.expand_power_base(_,force=True)\n",
    "adiabatic_peak_flux = _\n",
    "sympy.Eq(F_nu_max, adiabatic_peak_flux)"
   ]
  },
  {
   "cell_type": "markdown",
   "metadata": {},
   "source": [
    "Radiative critical frequency"
   ]
  },
  {
   "cell_type": "code",
   "execution_count": 403,
   "metadata": {
    "collapsed": false
   },
   "outputs": [
    {
     "data": {
      "image/png": "[encoded data removed]",
      "text/latex": [
       "$$\\nu_{c} = \\frac{c^{\\frac{6}{7}} \\gamma_{0}^{\\frac{4}{7}} m_{e} q_{e}}{E^{\\frac{4}{7}} \\epsilon_{B}^{\\frac{3}{2}} m_{p}^{\\frac{13}{14}} n^{\\frac{13}{14}} \\sigma_{T}^{2} t^{\\frac{2}{7}}}$$"
      ],
      "text/plain": [
       "              6/7   4/7             \n",
       "             c   ⋅γ₀   ⋅mₑ⋅qₑ       \n",
       "ν_c = ──────────────────────────────\n",
       "                    13  13          \n",
       "                    ──  ──          \n",
       "       4/7    3/2   14  14    2  2/7\n",
       "      E   ⋅ε_B   ⋅mₚ  ⋅n  ⋅σ_T ⋅t   "
      ]
     },
     "execution_count": 403,
     "metadata": {},
     "output_type": "execute_result"
    }
   ],
   "source": [
    "_ = characteristic_frequency.subs(gamma_e, critical_lorentz_factor)\n",
    "_ = _.subs(B,magnetic_field)\n",
    "_ = _.subs(gamma,radiative_gamma_time)\n",
    "_ = _.subs(L,relativistic_sedov_length)\n",
    "_ = sympy.expand_power_base(_,force=True)\n",
    "radiative_nu_c = _\n",
    "sympy.Eq(nu_c,radiative_nu_c)"
   ]
  },
  {
   "cell_type": "markdown",
   "metadata": {},
   "source": [
    "Radiative minimal frequency"
   ]
  },
  {
   "cell_type": "code",
   "execution_count": 404,
   "metadata": {
    "collapsed": false
   },
   "outputs": [
    {
     "data": {
      "image/png": "[encoded data removed]",
      "text/latex": [
       "$$\\nu_{m} = \\frac{E^{\\frac{4}{7}} \\sqrt{\\epsilon_{B}} \\epsilon_{e}^{2} m_{p}^{\\frac{27}{14}} q_{e} \\left(p - 2\\right)^{2}}{c^{\\frac{20}{7}} \\gamma_{0}^{\\frac{4}{7}} m_{e}^{3} \\sqrt[14]{n} t^{\\frac{12}{7}} \\left(p - 1\\right)^{2}}$$"
      ],
      "text/plain": [
       "                         27              \n",
       "                         ──              \n",
       "       4/7   _____   2   14           2  \n",
       "      E   ⋅╲╱ ε_B ⋅εₑ ⋅mₚ  ⋅qₑ⋅(p - 2)   \n",
       "νₘ = ────────────────────────────────────\n",
       "      20/7   4/7   3 14___  12/7        2\n",
       "     c    ⋅γ₀   ⋅mₑ ⋅╲╱ n ⋅t    ⋅(p - 1) "
      ]
     },
     "execution_count": 404,
     "metadata": {},
     "output_type": "execute_result"
    }
   ],
   "source": [
    "_ = characteristic_frequency\n",
    "_ = _.subs(gamma_e, gamma_m_expr)\n",
    "_ = _.subs(B,magnetic_field)\n",
    "_ = _.subs(gamma, radiative_gamma_time)\n",
    "_ = _.subs(L,relativistic_sedov_length)\n",
    "_ = sympy.expand_power_base(_,force=True)\n",
    "radiative_nu_m = _\n",
    "sympy.Eq(nu_m, radiative_nu_m)"
   ]
  },
  {
   "cell_type": "markdown",
   "metadata": {},
   "source": [
    "Radiative peak flux"
   ]
  },
  {
   "cell_type": "code",
   "execution_count": 405,
   "metadata": {
    "collapsed": false
   },
   "outputs": [
    {
     "data": {
      "image/png": "[encoded data removed]",
      "text/latex": [
       "$$F_{\\nu, \\max} = \\frac{E^{\\frac{8}{7}} c^{\\frac{2}{7}} \\sqrt{\\epsilon_{B}} m_{e} n^{\\frac{5}{14}} \\sigma_{T}}{D^{2} \\gamma_{0}^{\\frac{8}{7}} m_{p}^{\\frac{9}{14}} q_{e} t^{\\frac{3}{7}}}$$"
      ],
      "text/plain": [
       "                 8/7  2/7   _____     5/14    \n",
       "                E   ⋅c   ⋅╲╱ ε_B ⋅mₑ⋅n    ⋅σ_T\n",
       "F_{\\nu, \\max} = ──────────────────────────────\n",
       "                    2   8/7   9/14     3/7    \n",
       "                   D ⋅γ₀   ⋅mₚ    ⋅qₑ⋅t       "
      ]
     },
     "execution_count": 405,
     "metadata": {},
     "output_type": "execute_result"
    }
   ],
   "source": [
    "_ = peak_power*n*R**3/D**2\n",
    "_ = _.subs(R, radiative_radius_time)\n",
    "_ = _.subs(B,magnetic_field)\n",
    "_ = _.subs(gamma,radiative_gamma_time)\n",
    "_ = _.subs(L,relativistic_sedov_length)\n",
    "_ = sympy.expand_power_base(_,force=True)\n",
    "radiative_peak_flux = _\n",
    "sympy.Eq(F_nu_max, radiative_peak_flux)"
   ]
  },
  {
   "cell_type": "markdown",
   "metadata": {},
   "source": [
    "Adiabatic transition time"
   ]
  },
  {
   "cell_type": "code",
   "execution_count": 406,
   "metadata": {
    "collapsed": false
   },
   "outputs": [
    {
     "data": {
      "image/png": "[encoded data removed]",
      "text/latex": [
       "$$t_{0} = \\frac{E \\epsilon_{B}^{2} \\epsilon_{e}^{2} m_{p}^{3} n \\sigma_{T}^{2} \\left(p - 2\\right)^{2}}{c^{3} m_{e}^{4} \\left(p - 1\\right)^{2}}$$"
      ],
      "text/plain": [
       "          2   2   3      2        2\n",
       "     E⋅ε_B ⋅εₑ ⋅mₚ ⋅n⋅σ_T ⋅(p - 2) \n",
       "t₀ = ──────────────────────────────\n",
       "             3   4        2        \n",
       "            c ⋅mₑ ⋅(p - 1)         "
      ]
     },
     "execution_count": 406,
     "metadata": {},
     "output_type": "execute_result"
    }
   ],
   "source": [
    "t_0 = sympy.Symbol('t_0')\n",
    "_ = sympy.Eq(adiabatic_nu_c,\n",
    "             adiabatic_nu_m)\n",
    "adiabatic_transition_time = sympy.solve(_,t)[0]\n",
    "sympy.Eq(t_0, adiabatic_transition_time)"
   ]
  },
  {
   "cell_type": "markdown",
   "metadata": {},
   "source": [
    "Radiative transition time"
   ]
  },
  {
   "cell_type": "code",
   "execution_count": 407,
   "metadata": {
    "collapsed": false
   },
   "outputs": [
    {
     "data": {
      "image/png": "[encoded data removed]",
      "text/latex": [
       "$$t_{0} = \\frac{E^{\\frac{4}{5}} \\epsilon_{B}^{\\frac{7}{5}} \\epsilon_{e}^{\\frac{7}{5}} m_{p}^{2} n^{\\frac{3}{5}} \\sigma_{T}^{\\frac{7}{5}}}{c^{\\frac{13}{5}} \\gamma_{0}^{\\frac{4}{5}} m_{e}^{\\frac{14}{5}}} \\left(\\frac{p - 2}{p - 1}\\right)^{\\frac{7}{5}}$$"
      ],
      "text/plain": [
       "                                              7/5\n",
       "      4/5    7/5   7/5   2  3/5    7/5 ⎛p - 2⎞   \n",
       "     E   ⋅ε_B   ⋅εₑ   ⋅mₚ ⋅n   ⋅σ_T   ⋅⎜─────⎟   \n",
       "                                       ⎝p - 1⎠   \n",
       "t₀ = ────────────────────────────────────────────\n",
       "                   13/5   4/5   14/5             \n",
       "                  c    ⋅γ₀   ⋅mₑ                 "
      ]
     },
     "execution_count": 407,
     "metadata": {},
     "output_type": "execute_result"
    }
   ],
   "source": [
    "xi = sympy.Symbol('xi',positive=True)\n",
    "_ = sympy.Eq(radiative_nu_c,\n",
    "            radiative_nu_m)\n",
    "_ = _.subs(sympy.solve(sympy.Eq(xi,(p-2)/(p-1)))[0]).simplify()\n",
    "_ = sympy.solve(sympy.expand_power_base(_.rhs/_.lhs,force=True)-1,t)[-1]\n",
    "_ = _.subs(xi,(p-2)/(p-1))\n",
    "radiative_transition_time = _\n",
    "sympy.Eq(t_0, radiative_transition_time)"
   ]
  },
  {
   "cell_type": "markdown",
   "metadata": {},
   "source": [
    "Critical time for a given frequency, adiabatic case"
   ]
  },
  {
   "cell_type": "code",
   "execution_count": 408,
   "metadata": {
    "collapsed": false
   },
   "outputs": [
    {
     "data": {
      "image/png": "[encoded data removed]",
      "text/latex": [
       "$$t_{c} = \\frac{c m_{e}^{2} q_{e}^{2}}{E \\epsilon_{B}^{3} m_{p}^{2} n^{2} \\nu^{2} \\sigma_{T}^{4}}$$"
      ],
      "text/plain": [
       "                2   2      \n",
       "            c⋅mₑ ⋅qₑ       \n",
       "t_c = ─────────────────────\n",
       "           3   2  2  2    4\n",
       "      E⋅ε_B ⋅mₚ ⋅n ⋅ν ⋅σ_T "
      ]
     },
     "execution_count": 408,
     "metadata": {},
     "output_type": "execute_result"
    }
   ],
   "source": [
    "t_c = sympy.Symbol('t_c')\n",
    "nu = sympy.Symbol('nu', positive=True)\n",
    "_ = sympy.Eq(nu,adiabatic_nu_c)\n",
    "_ = sympy.solve(_,t)[0]\n",
    "adiabatic_t_c_nu = _\n",
    "sympy.Eq(t_c, adiabatic_t_c_nu)"
   ]
  },
  {
   "cell_type": "markdown",
   "metadata": {},
   "source": [
    "Critical time for a given frequency, radiative case"
   ]
  },
  {
   "cell_type": "code",
   "execution_count": 409,
   "metadata": {
    "collapsed": false
   },
   "outputs": [
    {
     "data": {
      "image/png": "[encoded data removed]",
      "text/latex": [
       "$$t_{c} = \\frac{c^{3} \\gamma_{0}^{2} m_{e}^{\\frac{7}{2}} q_{e}^{\\frac{7}{2}}}{E^{2} \\epsilon_{B}^{\\frac{21}{4}} m_{p}^{\\frac{13}{4}} n^{\\frac{13}{4}} \\nu^{\\frac{7}{2}} \\sigma_{T}^{7}}$$"
      ],
      "text/plain": [
       "               3   2   7/2   7/2       \n",
       "              c ⋅γ₀ ⋅mₑ   ⋅qₑ          \n",
       "t_c = ─────────────────────────────────\n",
       "       2    21/4   13/4  13/4  7/2    7\n",
       "      E ⋅ε_B    ⋅mₚ    ⋅n    ⋅ν   ⋅σ_T "
      ]
     },
     "execution_count": 409,
     "metadata": {},
     "output_type": "execute_result"
    }
   ],
   "source": [
    "_ = sympy.Eq(nu,radiative_nu_c)\n",
    "_ = sympy.solve(_,t)[0]\n",
    "_ = sympy.expand_power_base(_,force=True)\n",
    "radiative_t_c_nu = _\n",
    "sympy.Eq(t_c, radiative_t_c_nu)"
   ]
  },
  {
   "cell_type": "markdown",
   "metadata": {},
   "source": [
    "$t_m$ for the adiabatic case"
   ]
  },
  {
   "cell_type": "code",
   "execution_count": 410,
   "metadata": {
    "collapsed": false
   },
   "outputs": [
    {
     "data": {
      "image/png": "[encoded data removed]",
      "text/latex": [
       "$$t_{m} = \\frac{\\sqrt[3]{E} \\sqrt[3]{\\epsilon_{B}} \\epsilon_{e}^{\\frac{4}{3}} m_{p}^{\\frac{4}{3}} q_{e}^{\\frac{2}{3}}}{c^{\\frac{5}{3}} m_{e}^{2} \\nu^{\\frac{2}{3}}} \\left(\\frac{p - 2}{p - 1}\\right)^{\\frac{4}{3}}$$"
      ],
      "text/plain": [
       "                                            4/3\n",
       "     3 ___ 3 _____   4/3   4/3   2/3 ⎛p - 2⎞   \n",
       "     ╲╱ E ⋅╲╱ ε_B ⋅εₑ   ⋅mₚ   ⋅qₑ   ⋅⎜─────⎟   \n",
       "                                     ⎝p - 1⎠   \n",
       "tₘ = ──────────────────────────────────────────\n",
       "                    5/3   2  2/3               \n",
       "                   c   ⋅mₑ ⋅ν                  "
      ]
     },
     "execution_count": 410,
     "metadata": {},
     "output_type": "execute_result"
    }
   ],
   "source": [
    "t_m = sympy.Symbol('t_m')\n",
    "_ = sympy.Eq(nu,adiabatic_nu_m)\n",
    "_ = _.subs(sympy.solve(sympy.Eq(xi,(p-2)/(p-1)))[0]).simplify()\n",
    "_ = sympy.solve(_,t)[0]\n",
    "_ = _.subs(xi,(p-2)/(p-1))\n",
    "adiabatic_t_m_nu = _\n",
    "sympy.Eq(t_m, adiabatic_t_m_nu)"
   ]
  },
  {
   "cell_type": "markdown",
   "metadata": {},
   "source": [
    "$t_m$ for the radiative case"
   ]
  },
  {
   "cell_type": "code",
   "execution_count": 411,
   "metadata": {
    "collapsed": false
   },
   "outputs": [
    {
     "data": {
      "image/png": "[encoded data removed]",
      "text/latex": [
       "$$t_{m} = \\frac{\\sqrt[3]{E} \\epsilon_{B}^{\\frac{7}{24}} \\epsilon_{e}^{\\frac{7}{6}} m_{p}^{\\frac{9}{8}} q_{e}^{\\frac{7}{12}} \\left(\\frac{p - 2}{p - 1}\\right)^{\\frac{7}{6}}}{c^{\\frac{5}{3}} \\sqrt[3]{\\gamma_{0}} m_{e}^{\\frac{7}{4}} \\sqrt[24]{n} \\nu^{\\frac{7}{12}}}$$"
      ],
      "text/plain": [
       "                                             7/6\n",
       "     3 ___    7/24   7/6   9/8   7/12 ⎛p - 2⎞   \n",
       "     ╲╱ E ⋅ε_B    ⋅εₑ   ⋅mₚ   ⋅qₑ    ⋅⎜─────⎟   \n",
       "                                      ⎝p - 1⎠   \n",
       "tₘ = ───────────────────────────────────────────\n",
       "             5/3 3 ____   7/4 24___  7/12       \n",
       "            c   ⋅╲╱ γ₀ ⋅mₑ   ⋅╲╱ n ⋅ν           "
      ]
     },
     "execution_count": 411,
     "metadata": {},
     "output_type": "execute_result"
    }
   ],
   "source": [
    "_ = sympy.Eq(nu,radiative_nu_m)\n",
    "_ = _.subs(sympy.solve(sympy.Eq(xi,(p-2)/(p-1)))[0]).simplify()\n",
    "_ = sympy.solve(_,t)[0]\n",
    "_ = _.subs(xi,(p-2)/(p-1))\n",
    "radiative_t_m_nu = _\n",
    "sympy.Eq(t_m, radiative_t_m_nu)"
   ]
  },
  {
   "cell_type": "markdown",
   "metadata": {},
   "source": [
    "$\\nu_0$ for the adiabatic case"
   ]
  },
  {
   "cell_type": "code",
   "execution_count": 412,
   "metadata": {
    "collapsed": false
   },
   "outputs": [
    {
     "data": {
      "image/png": "[encoded data removed]",
      "text/latex": [
       "$$\\nu_{0} = \\frac{c^{2} m_{e}^{3} q_{e} \\left(p - 1\\right)}{E \\epsilon_{B}^{\\frac{5}{2}} \\epsilon_{e} m_{p}^{\\frac{5}{2}} n^{\\frac{3}{2}} \\sigma_{T}^{3} \\left(p - 2\\right)}$$"
      ],
      "text/plain": [
       "               2   3                    \n",
       "              c ⋅mₑ ⋅qₑ⋅(p - 1)         \n",
       "ν₀ = ───────────────────────────────────\n",
       "          5/2      5/2  3/2    3        \n",
       "     E⋅ε_B   ⋅εₑ⋅mₚ   ⋅n   ⋅σ_T ⋅(p - 2)"
      ]
     },
     "execution_count": 412,
     "metadata": {},
     "output_type": "execute_result"
    }
   ],
   "source": [
    "nu_0 = sympy.Symbol('nu_0')\n",
    "_ = adiabatic_nu_c.subs(t,adiabatic_transition_time)\n",
    "_ = _.subs(sympy.solve(sympy.Eq(xi,(p-2)/(p-1)))[0]).simplify()\n",
    "_ = _.subs(xi,(p-2)/(p-1))\n",
    "adiabatic_nu_0 = _\n",
    "sympy.Eq(nu_0,_)"
   ]
  },
  {
   "cell_type": "markdown",
   "metadata": {},
   "source": [
    "$\\nu_0$ for the radiative case"
   ]
  },
  {
   "cell_type": "code",
   "execution_count": 413,
   "metadata": {
    "collapsed": false
   },
   "outputs": [
    {
     "data": {
      "image/png": "[encoded data removed]",
      "text/latex": [
       "$$\\nu_{0} = \\frac{c^{\\frac{8}{5}} \\gamma_{0}^{\\frac{4}{5}} m_{e}^{\\frac{9}{5}} q_{e}}{E^{\\frac{4}{5}} \\epsilon_{B}^{\\frac{19}{10}} \\epsilon_{e}^{\\frac{2}{5}} m_{p}^{\\frac{3}{2}} n^{\\frac{11}{10}} \\sigma_{T}^{\\frac{12}{5}} \\left(\\frac{p - 2}{p - 1}\\right)^{\\frac{2}{5}}}$$"
      ],
      "text/plain": [
       "                   8/5   4/5   9/5                \n",
       "                  c   ⋅γ₀   ⋅mₑ   ⋅qₑ             \n",
       "ν₀ = ─────────────────────────────────────────────\n",
       "             19              11                   \n",
       "             ──              ──                2/5\n",
       "      4/5    10   2/5   3/2  10    12/5 ⎛p - 2⎞   \n",
       "     E   ⋅ε_B  ⋅εₑ   ⋅mₚ   ⋅n  ⋅σ_T    ⋅⎜─────⎟   \n",
       "                                        ⎝p - 1⎠   "
      ]
     },
     "execution_count": 413,
     "metadata": {},
     "output_type": "execute_result"
    }
   ],
   "source": [
    "_ = radiative_nu_c.subs(t,radiative_transition_time)\n",
    "_ = _.subs(sympy.solve(sympy.Eq(xi,(p-2)/(p-1)))[0]).simplify()\n",
    "_ = _.subs(xi,(p-2)/(p-1))\n",
    "radiative_nu_0 = _\n",
    "sympy.Eq(nu_0,_)"
   ]
  },
  {
   "cell_type": "markdown",
   "metadata": {},
   "source": [
    "Transition from radiative to adiabatic regime"
   ]
  },
  {
   "cell_type": "code",
   "execution_count": 426,
   "metadata": {
    "collapsed": false
   },
   "outputs": [
    {
     "data": {
      "image/png": "[encoded data removed]",
      "text/latex": [
       "$$\\frac{E^{\\frac{4}{5}} c^{\\frac{2}{5}} m_{e}^{\\frac{6}{5}}}{\\epsilon_{B}^{\\frac{3}{5}} \\epsilon_{e}^{\\frac{3}{5}} \\gamma_{0}^{\\frac{4}{5}} m_{p} n^{\\frac{2}{5}} \\sigma_{T}^{\\frac{3}{5}} \\left(\\frac{p - 2}{p - 1}\\right)^{\\frac{3}{5}}}$$"
      ],
      "text/plain": [
       "               4/5  2/5   6/5               \n",
       "              E   ⋅c   ⋅mₑ                  \n",
       "────────────────────────────────────────────\n",
       "                                         3/5\n",
       "   3/5   3/5   4/5     2/5    3/5 ⎛p - 2⎞   \n",
       "ε_B   ⋅εₑ   ⋅γ₀   ⋅mₚ⋅n   ⋅σ_T   ⋅⎜─────⎟   \n",
       "                                  ⎝p - 1⎠   "
      ]
     },
     "execution_count": 426,
     "metadata": {},
     "output_type": "execute_result"
    }
   ],
   "source": [
    "_ = gamma**2*R**3*n*m_p*c**2\n",
    "_ = _.subs(R, radiative_radius_time)\n",
    "_ = _.subs(gamma, radiative_gamma_time)\n",
    "_ = _.subs(L, relativistic_sedov_length)\n",
    "_ = _.subs(t, radiative_transition_time)\n",
    "_ = _.subs(sympy.solve(sympy.Eq(xi,(p-2)/(p-1)))[0]).simplify()\n",
    "_ = _.subs(xi,(p-2)/(p-1))\n",
    "_"
   ]
  },
  {
   "cell_type": "code",
   "execution_count": null,
   "metadata": {
    "collapsed": true
   },
   "outputs": [],
   "source": []
  }
 ],
 "metadata": {
  "kernelspec": {
   "display_name": "Python 3",
   "language": "python",
   "name": "python3"
  },
  "language_info": {
   "codemirror_mode": {
    "name": "ipython",
    "version": 3
   },
   "file_extension": ".py",
   "mimetype": "text/x-python",
   "name": "python",
   "nbconvert_exporter": "python",
   "pygments_lexer": "ipython3",
   "version": "3.6.1"
  }
 },
 "nbformat": 4,
 "nbformat_minor": 2
}
